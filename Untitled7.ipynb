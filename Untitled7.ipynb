{
 "cells": [
  {
   "cell_type": "code",
   "execution_count": 1,
   "id": "b40fbd89",
   "metadata": {},
   "outputs": [],
   "source": [
    "import pandas as pd\n",
    "import numpy as nm\n",
    "from sklearn.model_selection import train_test_split\n",
    "import matplotlib.pyplot as plt  \n"
   ]
  },
  {
   "cell_type": "code",
   "execution_count": 2,
   "id": "e7d6d816",
   "metadata": {},
   "outputs": [
    {
     "data": {
      "text/html": [
       "<div>\n",
       "<style scoped>\n",
       "    .dataframe tbody tr th:only-of-type {\n",
       "        vertical-align: middle;\n",
       "    }\n",
       "\n",
       "    .dataframe tbody tr th {\n",
       "        vertical-align: top;\n",
       "    }\n",
       "\n",
       "    .dataframe thead th {\n",
       "        text-align: right;\n",
       "    }\n",
       "</style>\n",
       "<table border=\"1\" class=\"dataframe\">\n",
       "  <thead>\n",
       "    <tr style=\"text-align: right;\">\n",
       "      <th></th>\n",
       "      <th>REGION NAME</th>\n",
       "      <th>DISTRICT NAME</th>\n",
       "      <th>ULB NAME</th>\n",
       "      <th>ZONE NAME</th>\n",
       "      <th>USAGE AS PER NOMENCLATURE</th>\n",
       "      <th>CLASSIFICATION AS PER NOMENCLATURE</th>\n",
       "      <th>Unit Rate in Rs</th>\n",
       "    </tr>\n",
       "  </thead>\n",
       "  <tbody>\n",
       "    <tr>\n",
       "      <th>0</th>\n",
       "      <td>GUNTUR</td>\n",
       "      <td>GUNTUR</td>\n",
       "      <td>BAPATLA</td>\n",
       "      <td>ZONE1</td>\n",
       "      <td>BANKS</td>\n",
       "      <td>COUNTRY TILED</td>\n",
       "      <td>14.0</td>\n",
       "    </tr>\n",
       "    <tr>\n",
       "      <th>1</th>\n",
       "      <td>GUNTUR</td>\n",
       "      <td>GUNTUR</td>\n",
       "      <td>BAPATLA</td>\n",
       "      <td>ZONE1</td>\n",
       "      <td>BANKS</td>\n",
       "      <td>HUTS</td>\n",
       "      <td>9.0</td>\n",
       "    </tr>\n",
       "    <tr>\n",
       "      <th>2</th>\n",
       "      <td>GUNTUR</td>\n",
       "      <td>GUNTUR</td>\n",
       "      <td>BAPATLA</td>\n",
       "      <td>ZONE1</td>\n",
       "      <td>BANKS</td>\n",
       "      <td>MANGALORE TILED / ASBESTOS ROOFED / GI SHEET R...</td>\n",
       "      <td>25.0</td>\n",
       "    </tr>\n",
       "    <tr>\n",
       "      <th>3</th>\n",
       "      <td>GUNTUR</td>\n",
       "      <td>GUNTUR</td>\n",
       "      <td>BAPATLA</td>\n",
       "      <td>ZONE1</td>\n",
       "      <td>BANKS</td>\n",
       "      <td>MEDRAS TERRACE / JACK ARCH ROOFED / STONE SLAB...</td>\n",
       "      <td>30.0</td>\n",
       "    </tr>\n",
       "    <tr>\n",
       "      <th>4</th>\n",
       "      <td>GUNTUR</td>\n",
       "      <td>GUNTUR</td>\n",
       "      <td>BAPATLA</td>\n",
       "      <td>ZONE1</td>\n",
       "      <td>BANKS</td>\n",
       "      <td>RCC ORDINARY CELLAR</td>\n",
       "      <td>36.8</td>\n",
       "    </tr>\n",
       "    <tr>\n",
       "      <th>...</th>\n",
       "      <td>...</td>\n",
       "      <td>...</td>\n",
       "      <td>...</td>\n",
       "      <td>...</td>\n",
       "      <td>...</td>\n",
       "      <td>...</td>\n",
       "      <td>...</td>\n",
       "    </tr>\n",
       "    <tr>\n",
       "      <th>33413</th>\n",
       "      <td>GUNTUR</td>\n",
       "      <td>PRAKASAM</td>\n",
       "      <td>ONGOLE</td>\n",
       "      <td>ZONE9</td>\n",
       "      <td>SHOPS</td>\n",
       "      <td>MEDRAS TERRACE</td>\n",
       "      <td>19.0</td>\n",
       "    </tr>\n",
       "    <tr>\n",
       "      <th>33414</th>\n",
       "      <td>GUNTUR</td>\n",
       "      <td>PRAKASAM</td>\n",
       "      <td>ONGOLE</td>\n",
       "      <td>ZONE9</td>\n",
       "      <td>SHOPS</td>\n",
       "      <td>RCC ORDINARY</td>\n",
       "      <td>33.0</td>\n",
       "    </tr>\n",
       "    <tr>\n",
       "      <th>33415</th>\n",
       "      <td>GUNTUR</td>\n",
       "      <td>PRAKASAM</td>\n",
       "      <td>ONGOLE</td>\n",
       "      <td>ZONE9</td>\n",
       "      <td>SHOPS</td>\n",
       "      <td>RCC POSH</td>\n",
       "      <td>39.0</td>\n",
       "    </tr>\n",
       "    <tr>\n",
       "      <th>33416</th>\n",
       "      <td>GUNTUR</td>\n",
       "      <td>PRAKASAM</td>\n",
       "      <td>ONGOLE</td>\n",
       "      <td>ZONE9</td>\n",
       "      <td>SHOPS</td>\n",
       "      <td>SLATES ROOFED</td>\n",
       "      <td>19.0</td>\n",
       "    </tr>\n",
       "    <tr>\n",
       "      <th>33417</th>\n",
       "      <td>GUNTUR</td>\n",
       "      <td>PRAKASAM</td>\n",
       "      <td>ONGOLE</td>\n",
       "      <td>ZONE9</td>\n",
       "      <td>SHOPS</td>\n",
       "      <td>STONE SLAB</td>\n",
       "      <td>19.0</td>\n",
       "    </tr>\n",
       "  </tbody>\n",
       "</table>\n",
       "<p>33418 rows × 7 columns</p>\n",
       "</div>"
      ],
      "text/plain": [
       "      REGION NAME DISTRICT NAME ULB NAME ZONE NAME USAGE AS PER NOMENCLATURE  \\\n",
       "0          GUNTUR        GUNTUR  BAPATLA     ZONE1                     BANKS   \n",
       "1          GUNTUR        GUNTUR  BAPATLA     ZONE1                     BANKS   \n",
       "2          GUNTUR        GUNTUR  BAPATLA     ZONE1                     BANKS   \n",
       "3          GUNTUR        GUNTUR  BAPATLA     ZONE1                     BANKS   \n",
       "4          GUNTUR        GUNTUR  BAPATLA     ZONE1                     BANKS   \n",
       "...           ...           ...      ...       ...                       ...   \n",
       "33413      GUNTUR      PRAKASAM   ONGOLE     ZONE9                     SHOPS   \n",
       "33414      GUNTUR      PRAKASAM   ONGOLE     ZONE9                     SHOPS   \n",
       "33415      GUNTUR      PRAKASAM   ONGOLE     ZONE9                     SHOPS   \n",
       "33416      GUNTUR      PRAKASAM   ONGOLE     ZONE9                     SHOPS   \n",
       "33417      GUNTUR      PRAKASAM   ONGOLE     ZONE9                     SHOPS   \n",
       "\n",
       "                      CLASSIFICATION AS PER NOMENCLATURE  Unit Rate in Rs  \n",
       "0                                          COUNTRY TILED             14.0  \n",
       "1                                                   HUTS              9.0  \n",
       "2      MANGALORE TILED / ASBESTOS ROOFED / GI SHEET R...             25.0  \n",
       "3      MEDRAS TERRACE / JACK ARCH ROOFED / STONE SLAB...             30.0  \n",
       "4                                    RCC ORDINARY CELLAR             36.8  \n",
       "...                                                  ...              ...  \n",
       "33413                                     MEDRAS TERRACE             19.0  \n",
       "33414                                       RCC ORDINARY             33.0  \n",
       "33415                                           RCC POSH             39.0  \n",
       "33416                                      SLATES ROOFED             19.0  \n",
       "33417                                         STONE SLAB             19.0  \n",
       "\n",
       "[33418 rows x 7 columns]"
      ]
     },
     "execution_count": 2,
     "metadata": {},
     "output_type": "execute_result"
    }
   ],
   "source": [
    "data_set=pd.read_csv(\"p2.csv\")\n",
    "data_set"
   ]
  },
  {
   "cell_type": "code",
   "execution_count": 3,
   "id": "060a4985",
   "metadata": {},
   "outputs": [
    {
     "data": {
      "text/plain": [
       "array([[ 0,  0,  2, 14,  5,  1],\n",
       "       [ 0,  0,  2, 14,  5,  5],\n",
       "       [ 0,  0,  2, 14,  5, 13],\n",
       "       ...,\n",
       "       [ 0,  2, 18, 51, 64, 29],\n",
       "       [ 0,  2, 18, 51, 64, 35],\n",
       "       [ 0,  2, 18, 51, 64, 36]])"
      ]
     },
     "execution_count": 3,
     "metadata": {},
     "output_type": "execute_result"
    }
   ],
   "source": [
    "y= data_set.iloc[:,6].values \n",
    "data_set.drop([\"Unit Rate in Rs\"],axis=1,inplace=True) \n",
    "\n",
    "from sklearn import preprocessing\n",
    "le = preprocessing.LabelEncoder()\n",
    "data_set[\"REGION NAME\"]=le.fit_transform(data_set[\"REGION NAME\"])\n",
    "data_set[\"DISTRICT NAME\"]=le.fit_transform(data_set[\"DISTRICT NAME\"])\n",
    "data_set[\"ULB NAME\"]=le.fit_transform(data_set[\"ULB NAME\"])\n",
    "data_set[\"ZONE NAME\"]=le.fit_transform(data_set[\"ZONE NAME\"])\n",
    "data_set[\"USAGE AS PER NOMENCLATURE\"]=le.fit_transform(data_set[\"USAGE AS PER NOMENCLATURE\"])\n",
    "data_set[\"CLASSIFICATION AS PER NOMENCLATURE\"]=le.fit_transform(data_set[\"CLASSIFICATION AS PER NOMENCLATURE\"])\n",
    "x= data_set.iloc[:,:].values\n",
    "x\n",
    "\n"
   ]
  },
  {
   "cell_type": "code",
   "execution_count": 4,
   "id": "01a2bb3c",
   "metadata": {},
   "outputs": [
    {
     "name": "stdout",
     "output_type": "stream",
     "text": [
      "ACCURACY OF THE MODEL:  0.8542764119758041\n"
     ]
    }
   ],
   "source": [
    "x_train, x_test, y_train, y_test= train_test_split(x, y, test_size= 0.4, random_state=0) \n",
    "from sklearn.tree import DecisionTreeRegressor\n",
    "from sklearn import metrics\n",
    "tree=DecisionTreeRegressor(max_depth=15)\n",
    "tree.fit(x_train,y_train) \n",
    "y_pred = tree.predict(x_test)\n",
    "print(\"ACCURACY OF THE MODEL: \", tree.score(x_test, y_test))"
   ]
  },
  {
   "cell_type": "code",
   "execution_count": 5,
   "id": "7b5091be",
   "metadata": {},
   "outputs": [
    {
     "data": {
      "text/plain": [
       "0.9294238956565479"
      ]
     },
     "execution_count": 5,
     "metadata": {},
     "output_type": "execute_result"
    }
   ],
   "source": [
    "from sklearn.ensemble import RandomForestClassifier, RandomForestRegressor, ExtraTreesRegressor, GradientBoostingRegressor\n",
    "\n",
    "forest = RandomForestRegressor(n_estimators=10)\n",
    "forest.fit(x_train,y_train)\n",
    "forest.score(x_test,y_test)\n"
   ]
  },
  {
   "cell_type": "code",
   "execution_count": 6,
   "id": "dd2dd531",
   "metadata": {},
   "outputs": [],
   "source": [
    "y_pred=forest.predict(x_test)\n",
    "nm.savetxt('land rates prediction.csv',y_pred, delimiter=',')"
   ]
  },
  {
   "cell_type": "code",
   "execution_count": null,
   "id": "7f180371",
   "metadata": {},
   "outputs": [],
   "source": []
  },
  {
   "cell_type": "code",
   "execution_count": null,
   "id": "b09b0ee4",
   "metadata": {},
   "outputs": [],
   "source": []
  },
  {
   "cell_type": "code",
   "execution_count": null,
   "id": "92a4395c",
   "metadata": {},
   "outputs": [],
   "source": []
  }
 ],
 "metadata": {
  "kernelspec": {
   "display_name": "Python 3 (ipykernel)",
   "language": "python",
   "name": "python3"
  },
  "language_info": {
   "codemirror_mode": {
    "name": "ipython",
    "version": 3
   },
   "file_extension": ".py",
   "mimetype": "text/x-python",
   "name": "python",
   "nbconvert_exporter": "python",
   "pygments_lexer": "ipython3",
   "version": "3.9.7"
  }
 },
 "nbformat": 4,
 "nbformat_minor": 5
}
